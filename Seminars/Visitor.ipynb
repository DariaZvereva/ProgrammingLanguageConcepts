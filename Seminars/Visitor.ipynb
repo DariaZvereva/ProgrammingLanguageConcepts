{
 "cells": [
  {
   "cell_type": "code",
   "execution_count": 5,
   "metadata": {
    "cellView": "both",
    "colab": {
     "autoexec": {
      "startup": false,
      "wait_interval": 0
     },
     "base_uri": "https://localhost:8080/",
     "height": 2028,
     "output_extras": [
      {},
      {}
     ]
    },
    "colab_type": "code",
    "executionInfo": {
     "elapsed": 22851,
     "status": "ok",
     "timestamp": 1521117836293,
     "user": {
      "displayName": "",
      "photoUrl": "",
      "userId": ""
     },
     "user_tz": -180
    },
    "id": "vU042t5wl42q",
    "outputId": "fa522392-4d3b-4a2b-8b85-ea9f7f67d86f"
   },
   "outputs": [],
   "source": [
    "from pydot import *"
   ]
  },
  {
   "cell_type": "markdown",
   "metadata": {
    "colab_type": "text",
    "id": "YLRxmsZ0Q_rC"
   },
   "source": [
    "Хочется поговорить немного про типизацию, утиную и разную.\n",
    "\n",
    "Поговорим в контексте простой задачи - DFS обхода.\n",
    "\n",
    "Если задача кажется совсем скучной - [попробуйте реализовать backpropagation](https://colab.research.google.com/drive/1Qe11uLSUmpQNAM8cjQ8rTKVj-jN5AQH7)."
   ]
  },
  {
   "cell_type": "code",
   "execution_count": 6,
   "metadata": {
    "colab": {
     "autoexec": {
      "startup": false,
      "wait_interval": 0
     },
     "base_uri": "https://localhost:8080/",
     "height": 34,
     "output_extras": [
      {}
     ]
    },
    "colab_type": "code",
    "executionInfo": {
     "elapsed": 893,
     "status": "ok",
     "timestamp": 1521117859773,
     "user": {
      "displayName": "",
      "photoUrl": "",
      "userId": ""
     },
     "user_tz": -180
    },
    "id": "to7dIccqD35t",
    "outputId": "e5914157-dadf-449d-da80-2ec70b7c971b"
   },
   "outputs": [
    {
     "data": {
      "text/plain": [
       "{'A', 'B', 'C', 'D', 'E', 'F'}"
      ]
     },
     "execution_count": 6,
     "metadata": {},
     "output_type": "execute_result"
    }
   ],
   "source": [
    "graph = {'A': set(['B', 'C']),\n",
    "         'B': set(['A', 'D', 'E']),\n",
    "         'C': set(['A', 'F']),\n",
    "         'D': set(['B']),\n",
    "         'E': set(['B', 'F']),\n",
    "         'F': set(['C', 'E'])}\n",
    "\n",
    "def dfs(graph, start, visited=None):\n",
    "    if visited is None:\n",
    "        visited = set()\n",
    "    visited.add(start)\n",
    "    for vert in graph[start]:\n",
    "        if vert not in visited:\n",
    "            dfs(graph, vert, visited)\n",
    "    return visited\n",
    "\n",
    "dfs(graph, 'C')"
   ]
  },
  {
   "cell_type": "markdown",
   "metadata": {
    "colab_type": "text",
    "id": "KIhZyVXaZh4B"
   },
   "source": [
    "Что, если хочется добавить какой-то полезный функционал в данный обход?\n",
    "\n",
    "Для добавления этого функционала можно добавить колбэки на нужные события. Ограничимся пока входом в вершину (перекраска в серый цвет) и выходом из неё (перекраска в черный).\n",
    "\n",
    "Какой функционал будем добавлять? Например, мне хочется визуализировать ход dfs.\n",
    "\n",
    "Ну, саму визуализацию написать довольно просто: "
   ]
  },
  {
   "cell_type": "code",
   "execution_count": 7,
   "metadata": {
    "colab": {
     "autoexec": {
      "startup": false,
      "wait_interval": 0
     },
     "base_uri": "https://localhost:8080/",
     "height": 364,
     "output_extras": [
      {}
     ]
    },
    "colab_type": "code",
    "executionInfo": {
     "elapsed": 25,
     "status": "ok",
     "timestamp": 1521117870208,
     "user": {
      "displayName": "",
      "photoUrl": "",
      "userId": ""
     },
     "user_tz": -180
    },
    "id": "bE4k8I7IHjQN",
    "outputId": "71c7f897-9f29-4528-9a30-4fa0ca415df3"
   },
   "outputs": [
    {
     "data": {
      "image/png": "[encoded data removed]",
      "text/plain": [
       "<IPython.core.display.Image object>"
      ]
     },
     "metadata": {},
     "output_type": "display_data"
    }
   ],
   "source": [
    "from IPython import display\n",
    "\n",
    "def display_graph(pdot):\n",
    "    display.clear_output(True)\n",
    "    plt = display.Image(pdot.create_png())\n",
    "    display.display(plt)\n",
    "\n",
    "\n",
    "dot_graph = Dot(graph_type='graph')\n",
    "\n",
    "for node in graph:\n",
    "    dot_graph.add_node(Node(node, style='filled', fontcolor='red', fillcolor='white'))\n",
    "  \n",
    "for node_from in graph:\n",
    "    for node_to in graph[node_from]:\n",
    "        if not dot_graph.get_edge(node_from, node_to):\n",
    "            dot_graph.add_edge(Edge(node_from, node_to))\n",
    "\n",
    "dot_graph.get_node('A')[0].set_fillcolor('gray')\n",
    "\n",
    "display_graph(dot_graph)"
   ]
  },
  {
   "cell_type": "markdown",
   "metadata": {
    "colab_type": "text",
    "id": "TP1XwTTDqSjt"
   },
   "source": [
    "Напишите класс `VisualizationCallback`, который будет демонстрировать на каждом шаге dfs, как перекрашиваются вершины.\n",
    "\n",
    "Сделаем ему такой интерфейс:"
   ]
  },
  {
   "cell_type": "code",
   "execution_count": 9,
   "metadata": {
    "colab": {
     "autoexec": {
      "startup": false,
      "wait_interval": 0
     }
    },
    "colab_type": "code",
    "collapsed": true,
    "id": "q9eR1DSFmZUt"
   },
   "outputs": [],
   "source": [
    "import time\n",
    "\n",
    "class VisualizationCallback:\n",
    "    \n",
    "    \n",
    "    \n",
    "    def __init__(self, graph):\n",
    "        \n",
    "        self.dot_graph = Dot(graph_type='graph')\n",
    "        \n",
    "        for node in graph:\n",
    "          self.dot_graph.add_node(Node(node, style='filled', fontcolor='red', fillcolor='white'))\n",
    "        \n",
    "        for node_from in graph:\n",
    "          for node_to in graph[node_from]:\n",
    "              if not self.dot_graph.get_edge(node_from, node_to):\n",
    "                  self.dot_graph.add_edge(Edge(node_from, node_to))\n",
    "\n",
    "        display_graph(self.dot_graph)\n",
    "        time.sleep(1)\n",
    "  \n",
    "    def discover_vertex(self, vertex):\n",
    "        \n",
    "        self.dot_graph.get_node(vertex)[0].set_fillcolor('gray')\n",
    "        \n",
    "        display_graph(self.dot_graph)\n",
    "        time.sleep(1)\n",
    "        \n",
    "    def finish_vertex(self, vertex):\n",
    "        \n",
    "        self.dot_graph.get_node(vertex)[0].set_fillcolor('black')\n",
    "      \n",
    "        display_graph(self.dot_graph)\n",
    "        time.sleep(1)"
   ]
  },
  {
   "cell_type": "markdown",
   "metadata": {
    "colab_type": "text",
    "id": "deuB_3tVnB8T"
   },
   "source": [
    "Заиспользуем его в `dfs`:"
   ]
  },
  {
   "cell_type": "code",
   "execution_count": 10,
   "metadata": {
    "colab": {
     "autoexec": {
      "startup": false,
      "wait_interval": 0
     },
     "base_uri": "https://localhost:8080/",
     "height": 382,
     "output_extras": [
      {},
      {}
     ]
    },
    "colab_type": "code",
    "executionInfo": {
     "elapsed": 994,
     "status": "ok",
     "timestamp": 1521118617139,
     "user": {
      "displayName": "",
      "photoUrl": "",
      "userId": ""
     },
     "user_tz": -180
    },
    "id": "8XEP-fE-PPzs",
    "outputId": "3ae3a0d2-68ad-499c-bcab-3cdecdfd5e3d"
   },
   "outputs": [
    {
     "data": {
      "image/png": "[encoded data removed]",
      "text/plain": [
       "<IPython.core.display.Image object>"
      ]
     },
     "metadata": {},
     "output_type": "display_data"
    },
    {
     "data": {
      "text/plain": [
       "{'A', 'B', 'C', 'D', 'E', 'F'}"
      ]
     },
     "execution_count": 10,
     "metadata": {},
     "output_type": "execute_result"
    }
   ],
   "source": [
    "graph = {'A': set(['B', 'C']),\n",
    "         'B': set(['A', 'D', 'E']),\n",
    "         'C': set(['A', 'F']),\n",
    "         'D': set(['B']),\n",
    "         'E': set(['B', 'F']),\n",
    "         'F': set(['C', 'E'])}\n",
    "\n",
    "def dfs(graph, start, callback, visited=None):\n",
    "    if visited is None:\n",
    "        visited = set()\n",
    "    visited.add(start)\n",
    "    callback.discover_vertex(start)\n",
    "    for vert in graph[start]:\n",
    "        if vert not in visited:\n",
    "            dfs(graph, vert, callback, visited)\n",
    "    callback.finish_vertex(start)\n",
    "    return visited\n",
    "  \n",
    "callback = VisualizationCallback(graph)\n",
    "dfs(graph, 'C', callback)"
   ]
  },
  {
   "cell_type": "markdown",
   "metadata": {
    "colab_type": "text",
    "id": "NhYB7asWqtw9"
   },
   "source": [
    "При чём здесь типизация?\n",
    "\n",
    "Функция `dfs` пользуется неявным интерфейсом для `callback`: тем, что в нём есть методы `discover_vertex` и `finish_vertex`. Таким образом, нам помогает утиная типизация python. \n",
    "\n",
    "Но динамическая типизация в нем может привести к неприятному: что, если мы передадим колбэк без метода `finish_vertex`. Алгоритм может обработать тысячу вершин, прежде чем узнает, что такого метода нет.\n",
    "\n",
    "А как то же самое можно сделать в языке с сильной типизацией?\n",
    "\n",
    "Посмотрим на С++ и Go.\n",
    "\n",
    "Начнём с C++.\n",
    "\n",
    "За Go - идём [сюда](https://ideone.com/FxMRWF)."
   ]
  }
 ],
 "metadata": {
  "colab": {
   "collapsed_sections": [],
   "default_view": {},
   "name": "Copy of Visitor.ipynb",
   "provenance": [
    {
     "file_id": "1kTsyM-NUCD50OPUWwLfxIY8skd6VOJwi",
     "timestamp": 1521118817972
    }
   ],
   "version": "0.3.2",
   "views": {}
  },
  "kernelspec": {
   "display_name": "Python 3",
   "language": "python",
   "name": "python3"
  },
  "language_info": {
   "codemirror_mode": {
    "name": "ipython",
    "version": 3
   },
   "file_extension": ".py",
   "mimetype": "text/x-python",
   "name": "python",
   "nbconvert_exporter": "python",
   "pygments_lexer": "ipython3",
   "version": "3.6.4"
  }
 },
 "nbformat": 4,
 "nbformat_minor": 1
}
