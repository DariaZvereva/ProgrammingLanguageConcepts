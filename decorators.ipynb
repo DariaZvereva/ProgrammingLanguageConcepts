{
 "cells": [
  {
   "cell_type": "code",
   "execution_count": 1,
   "metadata": {},
   "outputs": [
    {
     "name": "stdout",
     "output_type": "stream",
     "text": [
      "Elapsed Time = 0:00:03.003172\n"
     ]
    },
    {
     "data": {
      "text/plain": [
       "<function __main__.time_this.<locals>.new_function>"
      ]
     },
     "execution_count": 1,
     "metadata": {},
     "output_type": "execute_result"
    }
   ],
   "source": [
    "def time_this(original_function):\n",
    "    def new_function(*args,**kwargs):\n",
    "        import datetime  \n",
    "        before = datetime.datetime.now()\n",
    "        \n",
    "        x = original_function(*args,**kwargs)\n",
    "        \n",
    "        after = datetime.datetime.now()\n",
    "        print(\"Elapsed Time = {0}\".format(after-before))\n",
    "        return x     \n",
    "    \n",
    "    return new_function\n",
    "    \n",
    "@time_this\n",
    "def func_a(stuff):\n",
    "    import time\n",
    "    time.sleep(3)\n",
    "\n",
    "    \n",
    "time_this(func_a(1))\n",
    "    \n",
    "    "
   ]
  },
  {
   "cell_type": "markdown",
   "metadata": {},
   "source": [
    "Декоратор с параметром. Функция add(5) вызывается до аннотации. Возвращается новая фукнция other_function, которая в качестве параметра получает функцию original. После этого возвращённая функция оборачивает новую функцию."
   ]
  },
  {
   "cell_type": "code",
   "execution_count": 7,
   "metadata": {},
   "outputs": [
    {
     "data": {
      "text/plain": [
       "8"
      ]
     },
     "execution_count": 7,
     "metadata": {},
     "output_type": "execute_result"
    }
   ],
   "source": [
    "def add(val):\n",
    "    def other_function(original):\n",
    "        def new_function(*args,**kwargs):\n",
    "            x = original(*args,**kwargs)\n",
    "            return x + 5\n",
    "        return new_function\n",
    "    return other_function\n",
    "\n",
    "@add(5)\n",
    "def foo():\n",
    "    return 3\n",
    "\n",
    "foo()"
   ]
  },
  {
   "cell_type": "markdown",
   "metadata": {},
   "source": [
    "Декоратор классов"
   ]
  },
  {
   "cell_type": "code",
   "execution_count": 31,
   "metadata": {},
   "outputs": [
    {
     "name": "stdout",
     "output_type": "stream",
     "text": [
      "Acsessing x\n",
      "4\n",
      "Acsessing foo\n",
      "Acsessing x\n",
      "7\n"
     ]
    }
   ],
   "source": [
    "def log(Cls):\n",
    "    class NewCls(Cls):\n",
    "        def __init__(self):\n",
    "            super().__init__()\n",
    "            \n",
    "        def __getattribute__(self,name):\n",
    "            print(\"Acsessing\", name)\n",
    "            \n",
    "            try:\n",
    "                return object.__getattribute__(self, name)\n",
    "            except:\n",
    "                pass\n",
    "            \n",
    "            return self.__getattribute__(name)\n",
    "    return NewCls\n",
    "\n",
    "@log\n",
    "class Bar:\n",
    "    def __init__(self):\n",
    "        self.x = 4\n",
    "    def foo(self, y):\n",
    "        return self.x + y\n",
    "    \n",
    "    \n",
    "b = Bar()\n",
    "print(b.x)\n",
    "print(b.foo(3))"
   ]
  },
  {
   "cell_type": "code",
   "execution_count": null,
   "metadata": {
    "collapsed": true
   },
   "outputs": [],
   "source": []
  }
 ],
 "metadata": {
  "kernelspec": {
   "display_name": "Python 3",
   "language": "python",
   "name": "python3"
  },
  "language_info": {
   "codemirror_mode": {
    "name": "ipython",
    "version": 3
   },
   "file_extension": ".py",
   "mimetype": "text/x-python",
   "name": "python",
   "nbconvert_exporter": "python",
   "pygments_lexer": "ipython3",
   "version": "3.6.4"
  }
 },
 "nbformat": 4,
 "nbformat_minor": 2
}
